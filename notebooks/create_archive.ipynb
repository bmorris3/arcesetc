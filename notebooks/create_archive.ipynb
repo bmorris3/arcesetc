{
 "cells": [
  {
   "cell_type": "code",
   "execution_count": 1,
   "metadata": {},
   "outputs": [],
   "source": [
    "%matplotlib inline\n",
    "\n",
    "import matplotlib.pyplot as plt\n",
    "import numpy as np\n",
    "from astropy.time import Time\n",
    "from astropy.io import fits\n",
    "import astropy.units as u\n",
    "import h5py\n",
    "from astropy.utils.console import ProgressBar\n",
    "from astropy.coordinates import SkyCoord, Angle\n",
    "from aesop import EchelleSpectrum\n",
    "import os"
   ]
  },
  {
   "cell_type": "code",
   "execution_count": 2,
   "metadata": {},
   "outputs": [],
   "source": [
    "root_dir = '/Users/bmmorris/data/'\n",
    "target_paths = [os.path.abspath(os.path.join(root_dir, p)) \n",
    "                for p in open('target_paths.txt').read().splitlines()]\n",
    "spectrum_indices = [p.split('.wfrmcpc')[0][-4:] for p in target_paths]\n",
    "\n",
    "validated_paths = []\n",
    "\n",
    "for path in target_paths: \n",
    "    try: \n",
    "        _ = fits.getheader(path)\n",
    "        validated_paths.append(path)\n",
    "    except OSError: \n",
    "        print(path)\n",
    "\n",
    "target_names = [(fits.getheader(p)['OBJNAME'].replace(' ', '').replace('-', '')\n",
    "                 .replace('+', '').replace('_', ''))\n",
    "                for p in validated_paths]"
   ]
  },
  {
   "cell_type": "code",
   "execution_count": 10,
   "metadata": {},
   "outputs": [],
   "source": [
    "from astroquery.simbad import Simbad\n",
    "\n",
    "s = Simbad()\n",
    "s.add_votable_fields('flux(V)')\n",
    "s.add_votable_fields('sptype')"
   ]
  },
  {
   "cell_type": "code",
   "execution_count": 22,
   "metadata": {},
   "outputs": [
    {
     "name": "stdout",
     "output_type": "stream",
     "text": [
      "HD 289002 B1V std\n",
      "Sirius A1V std\n",
      "HR3454\n",
      "HR4963\n",
      "HR5191\n",
      "HR5501\n",
      "HR718\n",
      "HR7596\n",
      "HR7950\n",
      "HR8634\n",
      "HD108945\n",
      "HD12869\n",
      "HD15558\n",
      "HD191692\n",
      "HD193322\n",
      "HD199579\n",
      "HD205637\n",
      "HD37043\n",
      "HD54662\n",
      "HD 79763\n",
      "HD8374\n",
      "HD89822\n"
     ]
    },
    {
     "name": "stderr",
     "output_type": "stream",
     "text": [
      "/Users/bmmorris/anaconda/lib/python3.5/site-packages/aesop-0.0.dev81-py3.5.egg/aesop/legacy_specutils/specwcs.py:171: UserWarning: Initializing a Spectrum1D WCS with units set to `None` is not recommended\n",
      "  'Initializing a Spectrum1D WCS with units set to `None` is not recommended')\n"
     ]
    },
    {
     "name": "stdout",
     "output_type": "stream",
     "text": [
      "BD +56\\deg 595\n"
     ]
    },
    {
     "name": "stderr",
     "output_type": "stream",
     "text": [
      "/Users/bmmorris/anaconda/lib/python3.5/site-packages/aesop-0.0.dev81-py3.5.egg/aesop/legacy_specutils/specwcs.py:171: UserWarning: Initializing a Spectrum1D WCS with units set to `None` is not recommended\n",
      "  'Initializing a Spectrum1D WCS with units set to `None` is not recommended')\n"
     ]
    },
    {
     "name": "stdout",
     "output_type": "stream",
     "text": [
      "BD +57\\deg 647\n"
     ]
    },
    {
     "name": "stderr",
     "output_type": "stream",
     "text": [
      "/Users/bmmorris/anaconda/lib/python3.5/site-packages/aesop-0.0.dev81-py3.5.egg/aesop/legacy_specutils/specwcs.py:171: UserWarning: Initializing a Spectrum1D WCS with units set to `None` is not recommended\n",
      "  'Initializing a Spectrum1D WCS with units set to `None` is not recommended')\n"
     ]
    },
    {
     "name": "stdout",
     "output_type": "stream",
     "text": [
      "BD +59\\deg 372\n"
     ]
    },
    {
     "name": "stderr",
     "output_type": "stream",
     "text": [
      "/Users/bmmorris/anaconda/lib/python3.5/site-packages/aesop-0.0.dev81-py3.5.egg/aesop/legacy_specutils/specwcs.py:171: UserWarning: Initializing a Spectrum1D WCS with units set to `None` is not recommended\n",
      "  'Initializing a Spectrum1D WCS with units set to `None` is not recommended')\n"
     ]
    },
    {
     "name": "stdout",
     "output_type": "stream",
     "text": [
      "BD +59\\deg 38\n"
     ]
    },
    {
     "name": "stderr",
     "output_type": "stream",
     "text": [
      "/Users/bmmorris/anaconda/lib/python3.5/site-packages/aesop-0.0.dev81-py3.5.egg/aesop/legacy_specutils/specwcs.py:171: UserWarning: Initializing a Spectrum1D WCS with units set to `None` is not recommended\n",
      "  'Initializing a Spectrum1D WCS with units set to `None` is not recommended')\n"
     ]
    },
    {
     "name": "stdout",
     "output_type": "stream",
     "text": [
      "BD +60\\deg 2634\n"
     ]
    },
    {
     "name": "stderr",
     "output_type": "stream",
     "text": [
      "/Users/bmmorris/anaconda/lib/python3.5/site-packages/aesop-0.0.dev81-py3.5.egg/aesop/legacy_specutils/specwcs.py:171: UserWarning: Initializing a Spectrum1D WCS with units set to `None` is not recommended\n",
      "  'Initializing a Spectrum1D WCS with units set to `None` is not recommended')\n"
     ]
    },
    {
     "name": "stdout",
     "output_type": "stream",
     "text": [
      "BD +60\\deg 335\n"
     ]
    },
    {
     "name": "stderr",
     "output_type": "stream",
     "text": [
      "/Users/bmmorris/anaconda/lib/python3.5/site-packages/aesop-0.0.dev81-py3.5.egg/aesop/legacy_specutils/specwcs.py:171: UserWarning: Initializing a Spectrum1D WCS with units set to `None` is not recommended\n",
      "  'Initializing a Spectrum1D WCS with units set to `None` is not recommended')\n"
     ]
    },
    {
     "name": "stdout",
     "output_type": "stream",
     "text": [
      "Case 23\n"
     ]
    },
    {
     "name": "stderr",
     "output_type": "stream",
     "text": [
      "/Users/bmmorris/anaconda/lib/python3.5/site-packages/aesop-0.0.dev81-py3.5.egg/aesop/legacy_specutils/specwcs.py:171: UserWarning: Initializing a Spectrum1D WCS with units set to `None` is not recommended\n",
      "  'Initializing a Spectrum1D WCS with units set to `None` is not recommended')\n"
     ]
    },
    {
     "name": "stdout",
     "output_type": "stream",
     "text": [
      "Case 80\n"
     ]
    },
    {
     "name": "stderr",
     "output_type": "stream",
     "text": [
      "/Users/bmmorris/anaconda/lib/python3.5/site-packages/aesop-0.0.dev81-py3.5.egg/aesop/legacy_specutils/specwcs.py:171: UserWarning: Initializing a Spectrum1D WCS with units set to `None` is not recommended\n",
      "  'Initializing a Spectrum1D WCS with units set to `None` is not recommended')\n"
     ]
    },
    {
     "name": "stdout",
     "output_type": "stream",
     "text": [
      "Case 81\n"
     ]
    },
    {
     "name": "stderr",
     "output_type": "stream",
     "text": [
      "/Users/bmmorris/anaconda/lib/python3.5/site-packages/aesop-0.0.dev81-py3.5.egg/aesop/legacy_specutils/specwcs.py:171: UserWarning: Initializing a Spectrum1D WCS with units set to `None` is not recommended\n",
      "  'Initializing a Spectrum1D WCS with units set to `None` is not recommended')\n"
     ]
    },
    {
     "name": "stdout",
     "output_type": "stream",
     "text": [
      "HD 14469\n"
     ]
    },
    {
     "name": "stderr",
     "output_type": "stream",
     "text": [
      "/Users/bmmorris/anaconda/lib/python3.5/site-packages/aesop-0.0.dev81-py3.5.egg/aesop/legacy_specutils/specwcs.py:171: UserWarning: Initializing a Spectrum1D WCS with units set to `None` is not recommended\n",
      "  'Initializing a Spectrum1D WCS with units set to `None` is not recommended')\n"
     ]
    },
    {
     "name": "stdout",
     "output_type": "stream",
     "text": [
      "HD 14488\n"
     ]
    },
    {
     "name": "stderr",
     "output_type": "stream",
     "text": [
      "/Users/bmmorris/anaconda/lib/python3.5/site-packages/aesop-0.0.dev81-py3.5.egg/aesop/legacy_specutils/specwcs.py:171: UserWarning: Initializing a Spectrum1D WCS with units set to `None` is not recommended\n",
      "  'Initializing a Spectrum1D WCS with units set to `None` is not recommended')\n"
     ]
    },
    {
     "name": "stdout",
     "output_type": "stream",
     "text": [
      "HD 14528\n"
     ]
    },
    {
     "name": "stderr",
     "output_type": "stream",
     "text": [
      "/Users/bmmorris/anaconda/lib/python3.5/site-packages/aesop-0.0.dev81-py3.5.egg/aesop/legacy_specutils/specwcs.py:171: UserWarning: Initializing a Spectrum1D WCS with units set to `None` is not recommended\n",
      "  'Initializing a Spectrum1D WCS with units set to `None` is not recommended')\n"
     ]
    },
    {
     "name": "stdout",
     "output_type": "stream",
     "text": [
      "HD 219978\n"
     ]
    },
    {
     "name": "stderr",
     "output_type": "stream",
     "text": [
      "/Users/bmmorris/anaconda/lib/python3.5/site-packages/aesop-0.0.dev81-py3.5.egg/aesop/legacy_specutils/specwcs.py:171: UserWarning: Initializing a Spectrum1D WCS with units set to `None` is not recommended\n",
      "  'Initializing a Spectrum1D WCS with units set to `None` is not recommended')\n"
     ]
    },
    {
     "name": "stdout",
     "output_type": "stream",
     "text": [
      "HD 23475\n"
     ]
    },
    {
     "name": "stderr",
     "output_type": "stream",
     "text": [
      "/Users/bmmorris/anaconda/lib/python3.5/site-packages/aesop-0.0.dev81-py3.5.egg/aesop/legacy_specutils/specwcs.py:171: UserWarning: Initializing a Spectrum1D WCS with units set to `None` is not recommended\n",
      "  'Initializing a Spectrum1D WCS with units set to `None` is not recommended')\n"
     ]
    },
    {
     "name": "stdout",
     "output_type": "stream",
     "text": [
      "HD 236697\n"
     ]
    },
    {
     "name": "stderr",
     "output_type": "stream",
     "text": [
      "/Users/bmmorris/anaconda/lib/python3.5/site-packages/aesop-0.0.dev81-py3.5.egg/aesop/legacy_specutils/specwcs.py:171: UserWarning: Initializing a Spectrum1D WCS with units set to `None` is not recommended\n",
      "  'Initializing a Spectrum1D WCS with units set to `None` is not recommended')\n"
     ]
    },
    {
     "name": "stdout",
     "output_type": "stream",
     "text": [
      "HD 236871\n"
     ]
    },
    {
     "name": "stderr",
     "output_type": "stream",
     "text": [
      "/Users/bmmorris/anaconda/lib/python3.5/site-packages/aesop-0.0.dev81-py3.5.egg/aesop/legacy_specutils/specwcs.py:171: UserWarning: Initializing a Spectrum1D WCS with units set to `None` is not recommended\n",
      "  'Initializing a Spectrum1D WCS with units set to `None` is not recommended')\n"
     ]
    },
    {
     "name": "stdout",
     "output_type": "stream",
     "text": [
      "HD 236915\n"
     ]
    },
    {
     "name": "stderr",
     "output_type": "stream",
     "text": [
      "/Users/bmmorris/anaconda/lib/python3.5/site-packages/aesop-0.0.dev81-py3.5.egg/aesop/legacy_specutils/specwcs.py:171: UserWarning: Initializing a Spectrum1D WCS with units set to `None` is not recommended\n",
      "  'Initializing a Spectrum1D WCS with units set to `None` is not recommended')\n"
     ]
    },
    {
     "name": "stdout",
     "output_type": "stream",
     "text": [
      "HD 35601\n"
     ]
    },
    {
     "name": "stderr",
     "output_type": "stream",
     "text": [
      "/Users/bmmorris/anaconda/lib/python3.5/site-packages/aesop-0.0.dev81-py3.5.egg/aesop/legacy_specutils/specwcs.py:171: UserWarning: Initializing a Spectrum1D WCS with units set to `None` is not recommended\n",
      "  'Initializing a Spectrum1D WCS with units set to `None` is not recommended')\n"
     ]
    },
    {
     "name": "stdout",
     "output_type": "stream",
     "text": [
      "HD 36389\n"
     ]
    },
    {
     "name": "stderr",
     "output_type": "stream",
     "text": [
      "/Users/bmmorris/anaconda/lib/python3.5/site-packages/aesop-0.0.dev81-py3.5.egg/aesop/legacy_specutils/specwcs.py:171: UserWarning: Initializing a Spectrum1D WCS with units set to `None` is not recommended\n",
      "  'Initializing a Spectrum1D WCS with units set to `None` is not recommended')\n"
     ]
    },
    {
     "name": "stdout",
     "output_type": "stream",
     "text": [
      "HD 37536\n"
     ]
    },
    {
     "name": "stderr",
     "output_type": "stream",
     "text": [
      "/Users/bmmorris/anaconda/lib/python3.5/site-packages/aesop-0.0.dev81-py3.5.egg/aesop/legacy_specutils/specwcs.py:171: UserWarning: Initializing a Spectrum1D WCS with units set to `None` is not recommended\n",
      "  'Initializing a Spectrum1D WCS with units set to `None` is not recommended')\n"
     ]
    },
    {
     "name": "stdout",
     "output_type": "stream",
     "text": [
      "HD 42475\n"
     ]
    },
    {
     "name": "stderr",
     "output_type": "stream",
     "text": [
      "/Users/bmmorris/anaconda/lib/python3.5/site-packages/aesop-0.0.dev81-py3.5.egg/aesop/legacy_specutils/specwcs.py:171: UserWarning: Initializing a Spectrum1D WCS with units set to `None` is not recommended\n",
      "  'Initializing a Spectrum1D WCS with units set to `None` is not recommended')\n"
     ]
    },
    {
     "name": "stdout",
     "output_type": "stream",
     "text": [
      "HD 42543\n"
     ]
    },
    {
     "name": "stderr",
     "output_type": "stream",
     "text": [
      "/Users/bmmorris/anaconda/lib/python3.5/site-packages/aesop-0.0.dev81-py3.5.egg/aesop/legacy_specutils/specwcs.py:171: UserWarning: Initializing a Spectrum1D WCS with units set to `None` is not recommended\n",
      "  'Initializing a Spectrum1D WCS with units set to `None` is not recommended')\n"
     ]
    },
    {
     "name": "stdout",
     "output_type": "stream",
     "text": [
      "HD 44537\n"
     ]
    },
    {
     "name": "stderr",
     "output_type": "stream",
     "text": [
      "/Users/bmmorris/anaconda/lib/python3.5/site-packages/aesop-0.0.dev81-py3.5.egg/aesop/legacy_specutils/specwcs.py:171: UserWarning: Initializing a Spectrum1D WCS with units set to `None` is not recommended\n",
      "  'Initializing a Spectrum1D WCS with units set to `None` is not recommended')\n"
     ]
    },
    {
     "name": "stdout",
     "output_type": "stream",
     "text": [
      "W Per\n",
      "WR124\n",
      "KIC 9652680\n",
      "GJ 9781A\n",
      "HAT P-11\n",
      "HD 209290\n",
      "HD 220182\n",
      "HD 222107\n",
      "HD34411\n",
      "HD39587\n",
      "HD41593\n",
      "HD45088\n",
      "HD68017\n",
      "HD86728\n",
      "HD110833\n",
      "HD 266611\n",
      "HD47752\n",
      "HD  82106\n",
      "HD87884\n",
      "HD98230\n"
     ]
    },
    {
     "data": {
      "image/png": "[encoded data removed]",
      "text/plain": [
       "<Figure size 432x288 with 1 Axes>"
      ]
     },
     "metadata": {},
     "output_type": "display_data"
    },
    {
     "name": "stdout",
     "output_type": "stream",
     "text": [
      "EK Dra\n",
      "EQ Vir\n",
      "GJ 705\n",
      "HD 145675\n",
      "HD 145742\n",
      "HD 73667\n",
      "61CygA\n",
      "61CygB\n",
      "Kepler-17\n",
      "Kepler-63\n",
      "51 Peg\n",
      "GJ4099\n",
      "HAT-P-11\n",
      "HD 178126\n",
      "HD 182488\n",
      "HD 210277\n",
      "HR 8832\n",
      "sigma Draconis\n",
      "HD 14039\n",
      "HD221639\n",
      "HD 113827\n",
      "HD 122120\n",
      "HD127506\n",
      "HD 129333\n",
      "HD134319\n",
      "HD 88230\n",
      "GJ702B\n",
      "HD148467\n",
      "HD149957\n",
      "HD151288\n",
      "HD175742\n",
      "HD200560\n",
      "HD 10697\n",
      "HD 38230\n",
      "HD 42250\n",
      "HD 50692\n",
      "HD 5857\n",
      "HD62613\n",
      "HD 6497\n",
      "HD 67767\n",
      "HD 89744\n",
      "EPIC 211928486\n",
      "HR 3454\n",
      "HR 6943\n",
      "BD28_4211\n",
      "KIC8462852\n",
      "20040825_0111\n",
      "R052288\n"
     ]
    }
   ],
   "source": [
    "archive.close()\n",
    "archive = h5py.File('../arcesetc/data/archive.hdf5', 'w')\n",
    "\n",
    "poly_order = 15\n",
    "\n",
    "for target_path, target_name in zip(target_paths, target_names):\n",
    "    target_spectrum = EchelleSpectrum.from_fits(target_path)\n",
    "    object_name = target_spectrum.header['OBJNAME']\n",
    "\n",
    "    if object_name not in list(archive) and target_name != 'sky': \n",
    "        print(object_name)\n",
    "        n_orders = len(target_spectrum.spectrum_list)\n",
    "        if object_name == 'BD28_4211': \n",
    "            object_name = 'BD+28 4211'\n",
    "        elif object_name == '20040825_0111': \n",
    "            object_name = 'HD 8163'\n",
    "        elif object_name == 'R052288':\n",
    "            object_name = \"BD-03 3845\"\n",
    "        elif '\\deg' in object_name: \n",
    "            object_name = object_name.replace('\\deg', '')\n",
    "        elif object_name == 'HD 289002 B1V std': \n",
    "            object_name = 'HD 289002'\n",
    "        elif object_name == 'Sirius A1V std': \n",
    "            object_name = 'Sirius'\n",
    "        if object_name not in archive:\n",
    "            dset = archive.create_dataset(object_name, shape=(n_orders, 3+poly_order+1))\n",
    "        else: \n",
    "            dset = archive[object_name]\n",
    "            \n",
    "        query = s.query_object(object_name)\n",
    "        v_mag = query['FLUX_V']\n",
    "        sptype = query['SP_TYPE']\n",
    "        dset.attrs['V'] = v_mag\n",
    "            \n",
    "        if object_name == '61CygA':\n",
    "            dset.attrs['V'] = [5.21]\n",
    "        elif object_name == '61CygB':\n",
    "            dset.attrs['V'] = [6.03]\n",
    "        elif object_name == 'Kepler-17':\n",
    "            dset.attrs['V'] = [14.0]\n",
    "\n",
    "        dset.attrs['SP_TYPE'] = str(sptype).split('\\n')[2].strip()\n",
    "\n",
    "        if object_name == 'HD 289002': \n",
    "            dset.attrs['SP_TYPE'] = 'B1V'\n",
    "        elif object_name == 'Kepler-63': \n",
    "            dset.attrs['SP_TYPE'] = 'G5V'\n",
    "        \n",
    "        dset.attrs['NAME'] = object_name\n",
    "\n",
    "        matrix = []\n",
    "        for order in np.arange(n_orders):\n",
    "            \n",
    "            wave, flux = target_spectrum[order].wavelength, target_spectrum[order].flux/target_spectrum.header['EXPTIME']\n",
    "            polynomial_coefficients = np.polyfit(wave - wave.mean(), flux, poly_order)\n",
    "\n",
    "            matrix.append(np.concatenate([[wave.value.mean(), np.median(np.diff(wave.value)), len(wave)], \n",
    "                                          polynomial_coefficients]))\n",
    "            if target_name == 'HD98230' and order == 20:\n",
    "                plt.plot(wave, flux)\n",
    "                plt.plot(wave, np.polyval(polynomial_coefficients, wave - wave.mean()))\n",
    "                plt.show()\n",
    "\n",
    "        dset[:] = np.array(matrix)\n",
    "archive.close()"
   ]
  },
  {
   "cell_type": "code",
   "execution_count": 23,
   "metadata": {},
   "outputs": [
    {
     "name": "stdout",
     "output_type": "stream",
     "text": [
      "51 Peg\n",
      "61CygA\n",
      "61CygB\n",
      "BD +56 595\n",
      "BD +57 647\n",
      "BD +59 372\n",
      "BD +59 38\n",
      "BD +60 2634\n",
      "BD +60 335\n",
      "BD+28 4211\n",
      "BD-03 3845\n",
      "Case 23\n",
      "Case 80\n",
      "Case 81\n",
      "EK Dra\n",
      "EPIC 211928486\n",
      "EQ Vir\n",
      "GJ 705\n",
      "GJ 9781A\n",
      "GJ4099\n",
      "GJ702B\n",
      "HAT P-11\n",
      "HAT-P-11\n",
      "HD  82106\n",
      "HD 10697\n",
      "HD 113827\n",
      "HD 122120\n",
      "HD 129333\n",
      "HD 14039\n",
      "HD 14469\n",
      "HD 14488\n",
      "HD 14528\n",
      "HD 145675\n",
      "HD 145742\n",
      "HD 178126\n",
      "HD 182488\n",
      "HD 209290\n",
      "HD 210277\n",
      "HD 219978\n",
      "HD 220182\n",
      "HD 222107\n",
      "HD 23475\n",
      "HD 236697\n",
      "HD 236871\n",
      "HD 236915\n",
      "HD 266611\n",
      "HD 289002\n",
      "HD 35601\n",
      "HD 36389\n",
      "HD 37536\n",
      "HD 38230\n",
      "HD 42250\n",
      "HD 42475\n",
      "HD 42543\n",
      "HD 44537\n",
      "HD 50692\n",
      "HD 5857\n",
      "HD 6497\n",
      "HD 67767\n",
      "HD 73667\n",
      "HD 79763\n",
      "HD 8163\n",
      "HD 88230\n",
      "HD 89744\n",
      "HD108945\n",
      "HD110833\n",
      "HD127506\n",
      "HD12869\n",
      "HD134319\n",
      "HD148467\n",
      "HD149957\n",
      "HD151288\n",
      "HD15558\n",
      "HD175742\n",
      "HD191692\n",
      "HD193322\n",
      "HD199579\n",
      "HD200560\n",
      "HD205637\n",
      "HD221639\n",
      "HD34411\n",
      "HD37043\n",
      "HD39587\n",
      "HD41593\n",
      "HD45088\n",
      "HD47752\n",
      "HD54662\n",
      "HD62613\n",
      "HD68017\n",
      "HD8374\n",
      "HD86728\n",
      "HD87884\n",
      "HD89822\n",
      "HD98230\n",
      "HR 3454\n",
      "HR 6943\n",
      "HR 8832\n",
      "HR3454\n",
      "HR4963\n",
      "HR5191\n",
      "HR5501\n",
      "HR718\n",
      "HR7596\n",
      "HR7950\n",
      "HR8634\n",
      "KIC 9652680\n",
      "KIC8462852\n",
      "Kepler-17\n",
      "Kepler-63\n",
      "Sirius\n",
      "W Per\n",
      "WR124\n",
      "sigma Draconis\n"
     ]
    }
   ],
   "source": [
    "archive = h5py.File('../arcesetc/data/archive.hdf5', 'r+')\n",
    "sptype_dictionary = dict()\n",
    "\n",
    "for target in archive:\n",
    "    dset = archive[target]\n",
    "    print(target)\n",
    "    sptype = dset.attrs['SP_TYPE']\n",
    "    if target == '61CygA': \n",
    "        sptype_dictionary['K5V'] = dset.attrs['NAME']\n",
    "    elif target == '61CygB': \n",
    "        sptype_dictionary['K7V'] = dset.attrs['NAME']\n",
    "    elif target == 'GJ4099' or target == 'GJ 4099': \n",
    "        sptype_dictionary['M2V'] = dset.attrs['NAME']\n",
    "    elif target == 'HD86728': \n",
    "        sptype_dictionary['G3V'] = dset.attrs['NAME']\n",
    "    elif target == 'HD200560': \n",
    "        sptype_dictionary['G3V'] = dset.attrs['NAME']\n",
    "    elif target == 'HD151288': \n",
    "        sptype_dictionary['K8V'] = dset.attrs['NAME']\n",
    "    elif target == 'HD 88230': \n",
    "        sptype_dictionary['K6V'] = dset.attrs['NAME']\n",
    "    elif target == 'KIC 9652680': \n",
    "        sptype_dictionary['G0V'] = dset.attrs['NAME']\n",
    "    elif target == 'HD 209290':\n",
    "        sptype_dictionary['M0V'] = dset.attrs['NAME']\n",
    "    else: \n",
    "        sptype_dictionary[sptype] = dset.attrs['NAME']\n",
    "\n",
    "from json import dump\n",
    "dump(sptype_dictionary, open('../arcesetc/data/sptype_dict.json', 'w'), sort_keys=True, indent=4)"
   ]
  },
  {
   "cell_type": "code",
   "execution_count": 24,
   "metadata": {},
   "outputs": [
    {
     "name": "stdout",
     "output_type": "stream",
     "text": [
      "51 Peg [5.46] G2IV\n",
      "61CygA [5.21] \n",
      "61CygB [6.03] \n",
      "BD +56 595 [8.165] M0.5Iab\n",
      "BD +57 647 [9.38] M2Ia\n",
      "BD +59 372 [9.39] K5/M0Ib\n",
      "BD +59 38 [9.67] M2Ia-Iab\n",
      "BD +60 2634 [9.18] M3Iab\n",
      "BD +60 335 [8.96] M3Iab-Ib\n",
      "BD+28 4211 [10.58] sdO2VIIIHe5\n",
      "BD-03 3845 [11.07] M6\n",
      "Case 23 [9.45] SC6:/9e\n",
      "Case 80 [nan] N\n",
      "Case 81 [nan] C\n",
      "EK Dra [7.61] G1.5V\n",
      "EPIC 211928486 [13.52] K5V\n",
      "EQ Vir [9.372] K5Ve\n",
      "GJ 705 [8.17] K2\n",
      "GJ 9781A [9.02] K7\n",
      "GJ4099 [11.36] M2.0Ve\n",
      "GJ702B [6.07] K4V\n",
      "HAT P-11 [9.47] K4V\n",
      "HAT-P-11 [9.47] K4V\n",
      "HD  82106 [7.197] K3V\n",
      "HD 10697 [6.279] G3Va\n",
      "HD 113827 [9.391] K4V\n",
      "HD 122120 [9.04] K5V\n",
      "HD 129333 [7.61] G1.5V\n",
      "HD 14039 [8.27] K1V\n",
      "HD 14469 [9.4] M3-M4Iab\n",
      "HD 14488 [8.768] M3.5IabFe-1\n",
      "HD 14528 [7.9] M4.5-7Iae\n",
      "HD 145675 [6.67] K0V\n",
      "HD 145742 [7.55] K0\n",
      "HD 178126 [9.215] K5V\n",
      "HD 182488 [6.356] K0V\n",
      "HD 209290 [9.146] M0.5V\n",
      "HD 210277 [6.63] G8V\n",
      "HD 219978 [6.671] K4.5Ib\n",
      "HD 220182 [7.36] G9V\n",
      "HD 222107 [3.82] G8IVk\n",
      "HD 23475 [4.48] M2II\n",
      "HD 236697 [8.62] M0.5Ib\n",
      "HD 236871 [8.59] M3Iab-Ib\n",
      "HD 236915 [8.38] M2Iab\n",
      "HD 266611 [9.745] K5V\n",
      "HD 289002 [10.44] B1V\n",
      "HD 35601 [7.32] M1.5Ib\n",
      "HD 36389 [4.33] M2Iab-Ib\n",
      "HD 37536 [6.21] M2Iab\n",
      "HD 38230 [7.36] K0V\n",
      "HD 42250 [7.43] G9V\n",
      "HD 42475 [6.56] M0-M1.5Iab\n",
      "HD 42543 [6.39] M1-M2Ia-Iab\n",
      "HD 44537 [4.75] K5-M1Iab-Ib\n",
      "HD 50692 [5.748] G0V\n",
      "HD 5857 [8.92] G5\n",
      "HD 6497 [6.401] K2III-IV\n",
      "HD 67767 [5.73] G7V\n",
      "HD 73667 [7.582] K2V\n",
      "HD 79763 [5.938] A1V\n",
      "HD 8163 [10.208] A9/F0V\n",
      "HD 88230 [6.61] K6VeFe-1\n",
      "HD 89744 [5.72] F7V\n",
      "HD108945 [5.436] A2pv\n",
      "HD110833 [7.04] K3V\n",
      "HD127506 [8.97] K3.5V\n",
      "HD12869 [5.019] A2m\n",
      "HD134319 [8.41] G5V:\n",
      "HD148467 [8.85] K6V\n",
      "HD149957 [9.465] K5V\n",
      "HD151288 [8.799] K7.5Ve\n",
      "HD15558 [7.87] O4.5III(f)\n",
      "HD175742 [8.019] K0V\n",
      "HD191692 [3.22] B9.5III\n",
      "HD193322 [5.84] O9IV(n)+B1.5V\n",
      "HD199579 [5.96] O6.5V((f))z\n",
      "HD200560 [7.68] K2.5V\n",
      "HD205637 [4.55] B3V\n",
      "HD221639 [7.19] K1V\n",
      "HD34411 [4.71] G1.5IV-VFe-1\n",
      "HD37043 [2.77] O9IIIvar\n",
      "HD39587 [4.4] G0V\n",
      "HD41593 [6.74] K0V\n",
      "HD45088 [6.768] K2Ve\n",
      "HD47752 [8.056] K3.5V\n",
      "HD54662 [6.21] O7Vzvar?\n",
      "HD62613 [6.56] G8V\n",
      "HD68017 [6.81] G3V\n",
      "HD8374 [5.587] A1m\n",
      "HD86728 [5.4] G3VaHdel1\n",
      "HD87884 [8.13] K0Ve\n",
      "HD89822 [4.93] A1:VpSiSrHg\n",
      "HD98230 [4.729] G2V\n",
      "HR 3454 [4.3] B3V\n",
      "HR 6943 [5.863] B6IV\n",
      "HR 8832 [5.57] K3V\n",
      "HR3454 [4.3] B3V\n",
      "HR4963 [4.397] A1IVs\n",
      "HR5191 [1.86] B3V\n",
      "HR5501 [5.665] B9.5V\n",
      "HR718 [4.3] B9III\n",
      "HR7596 [5.631] B9IV\n",
      "HR7950 [3.77] B9.5V\n",
      "HR8634 [3.41] B8V\n",
      "KIC 9652680 [11.45] G0Vs\n",
      "KIC8462852 [12.01] F3V\n",
      "Kepler-17 [14.] G5V\n",
      "Kepler-63 [12.02] G5V\n",
      "Sirius [-1.46] A1V+DA\n",
      "W Per [9.62] M3Iab-M5I\n",
      "WR124 [11.5] WN8h\n",
      "sigma Draconis [4.68] K0V\n"
     ]
    }
   ],
   "source": [
    "for target in archive: \n",
    "    print(target, archive[target].attrs['V'], archive[target].attrs['SP_TYPE'])"
   ]
  },
  {
   "cell_type": "code",
   "execution_count": null,
   "metadata": {},
   "outputs": [],
   "source": []
  }
 ],
 "metadata": {
  "kernelspec": {
   "display_name": "Python 3",
   "language": "python",
   "name": "python3"
  },
  "language_info": {
   "codemirror_mode": {
    "name": "ipython",
    "version": 3
   },
   "file_extension": ".py",
   "mimetype": "text/x-python",
   "name": "python",
   "nbconvert_exporter": "python",
   "pygments_lexer": "ipython3",
   "version": "3.5.4"
  }
 },
 "nbformat": 4,
 "nbformat_minor": 2
}
